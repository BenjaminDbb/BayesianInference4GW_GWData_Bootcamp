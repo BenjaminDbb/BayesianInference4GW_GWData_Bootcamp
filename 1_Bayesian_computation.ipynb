{
 "cells": [
  {
   "cell_type": "code",
   "execution_count": null,
   "metadata": {},
   "outputs": [],
   "source": [
    "import numpy as np\n",
    "from ipywidgets import interact, widgets\n",
    "import matplotlib.pyplot as plt"
   ]
  },
  {
   "cell_type": "markdown",
   "metadata": {},
   "source": [
    "## Markov chain"
   ]
  },
  {
   "cell_type": "code",
   "execution_count": null,
   "metadata": {},
   "outputs": [],
   "source": [
    "\n",
    "\n",
    "#                                     A    B    C \n",
    "transition_matrix = np.matrix(data=[[0.6, 0.3, 0.1],  # A ->\n",
    "                                    [0.2, 0.1, 0.7],  # B ->\n",
    "                                    [0.4, 0.2, 0.4]]) # C ->\n",
    "\n",
    "transition_matrix"
   ]
  },
  {
   "cell_type": "code",
   "execution_count": null,
   "metadata": {},
   "outputs": [],
   "source": [
    "init_vec = np.matrix([1e-2, 1e-4, 0.99])\n",
    "\n",
    "\n",
    "@interact(iter=widgets.IntSlider(min=0, max=50, step=1, value=0))\n",
    "def evolution(iter):\n",
    "    return init_vec * transition_matrix**iter"
   ]
  }
 ],
 "metadata": {
  "kernelspec": {
   "display_name": "igwn-py310",
   "language": "python",
   "name": "python3"
  },
  "language_info": {
   "codemirror_mode": {
    "name": "ipython",
    "version": 3
   },
   "file_extension": ".py",
   "mimetype": "text/x-python",
   "name": "python",
   "nbconvert_exporter": "python",
   "pygments_lexer": "ipython3",
   "version": "3.10.13"
  }
 },
 "nbformat": 4,
 "nbformat_minor": 2
}
