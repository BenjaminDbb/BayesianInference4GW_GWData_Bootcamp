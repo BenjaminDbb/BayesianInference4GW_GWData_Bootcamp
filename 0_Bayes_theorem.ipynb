{
 "cells": [
  {
   "cell_type": "code",
   "execution_count": null,
   "metadata": {},
   "outputs": [],
   "source": [
    "import numpy as np\n",
    "import scipy.stats as stats\n",
    "from ipywidgets import interact, widgets\n",
    "import matplotlib.pyplot as plt"
   ]
  },
  {
   "cell_type": "markdown",
   "metadata": {},
   "source": [
    "## The simplest example: false positives"
   ]
  },
  {
   "cell_type": "markdown",
   "metadata": {},
   "source": [
    "$$\n",
    "\\begin{align}\n",
    "P(+|{\\rm Cancer}) &= 0.9 \\nonumber\\\\\n",
    "P(-|{\\rm no \\, Cancer}) &= 0.9 \\nonumber\\\\\n",
    "P({\\rm Cancer}) & = 0.01\n",
    "\\nonumber\n",
    "\\end{align}\n",
    "$$"
   ]
  },
  {
   "cell_type": "code",
   "execution_count": null,
   "metadata": {},
   "outputs": [],
   "source": [
    "p_positive_with_cancer = 0.9\n",
    "p_negative_without_cancer = 0.9\n",
    "p_cancer = 0.01"
   ]
  },
  {
   "cell_type": "markdown",
   "metadata": {},
   "source": [
    "$$\n",
    "P({\\rm Cancer}|+) = ? \n",
    "$$"
   ]
  },
  {
   "cell_type": "markdown",
   "metadata": {},
   "source": [
    "$$\n",
    "P({\\rm Cancer}|+) = \\frac{P(+|{\\rm Cancer})P({\\rm Cancer})}{P({+})} = \n",
    "\\frac{P(+|{\\rm Cancer})P({\\rm Cancer})}{P(+|{\\rm Cancer})P({\\rm Cancer}) + P(+|{\\rm no \\, Cancer}) {\\color{red} P({\\rm no \\, Cancer}})}\n",
    "$$"
   ]
  },
  {
   "cell_type": "code",
   "execution_count": null,
   "metadata": {},
   "outputs": [],
   "source": [
    "p_positive = p_positive_with_cancer * p_cancer + (1 - p_negative_without_cancer) * (1 - p_cancer)\n",
    "\n",
    "p_cancer_with_positive = p_positive_with_cancer * p_cancer / p_positive\n",
    "p_cancer_with_positive"
   ]
  },
  {
   "cell_type": "markdown",
   "metadata": {},
   "source": [
    "## The Law of Large Numbers"
   ]
  },
  {
   "cell_type": "code",
   "execution_count": null,
   "metadata": {},
   "outputs": [],
   "source": [
    "inject_true_value = 0.5\n",
    "N_total = 10000\n",
    "\n",
    "# simulate the real toss progress\n",
    "data = stats.bernoulli.rvs(inject_true_value, size=N_total)\n",
    "\n",
    "@interact(n_trials=widgets.IntSlider(min=1, max=N_total, step=1, value=0))\n",
    "def toss_Frequentist(n_trials=0):\n",
    "    p_heads = [data[:i_trials].sum() / i_trials for i_trials in range(1, n_trials+1)]\n",
    "    plt.plot(p_heads, label=f\"observe {n_trials} tosses,\\n {data[:n_trials].sum()} heads\", color=\"red\")\n",
    "    plt.hlines(xmin=0, xmax=n_trials, y=inject_true_value, color=\"k\", linestyles=\"--\", lw=1)\n",
    "    plt.legend()"
   ]
  },
  {
   "cell_type": "markdown",
   "metadata": {},
   "source": [
    "## The Central Limit Theorem"
   ]
  },
  {
   "cell_type": "code",
   "execution_count": null,
   "metadata": {},
   "outputs": [],
   "source": [
    "inject_true_value = 0.5\n",
    "N_total = 1_000_000\n",
    "\n",
    "# simulate the real toss progress\n",
    "data = stats.bernoulli.rvs(inject_true_value, size=N_total)\n",
    "\n",
    "N_sampling = 10_000\n",
    "sample_size = 30\n",
    "\n",
    "X = [np.random.choice(data, sample_size).sum() for _ in range(N_sampling)]\n",
    "\n",
    "plt.hist(X, bins=np.linspace(0, sample_size, sample_size), label=\"sampling distribution\")\n",
    "plt.vlines(inject_true_value * sample_size, 0, N_sampling * 0.15, color=\"k\", linestyles=\"--\", lw=1)"
   ]
  },
  {
   "cell_type": "markdown",
   "metadata": {},
   "source": [
    "## Effect of the prior as $N$ increases"
   ]
  },
  {
   "cell_type": "markdown",
   "metadata": {},
   "source": [
    "Toss:\n",
    "\n",
    "$$\n",
    "p(\\theta) \\sim \\frac{n!}{m! (n-m)!} \\theta^{m} (1 - \\theta)^{n-m} \\cdot \\pi(\\theta)\n",
    "$$\n",
    "\n",
    "\n",
    "The tip:\n",
    "\n",
    "$$\n",
    "\\begin{align}\n",
    "\\Beta(x, \\alpha, \\beta) &= \\frac{\\Gamma(\\alpha+\\beta)}{\\Gamma(\\alpha) \\Gamma(\\beta)} x^{\\alpha-1}(1-x)^{\\beta-1} \\\\\n",
    "\\Gamma(n)&=(n-1) ! \\quad n \\in \\mathbf{Z}_{+}\n",
    "\\end{align}\n",
    "$$"
   ]
  },
  {
   "cell_type": "code",
   "execution_count": null,
   "metadata": {},
   "outputs": [],
   "source": [
    "inject_true_value = 0.5\n",
    "\n",
    "N_total = 10000\n",
    "\n",
    "# simulate the real toss progress\n",
    "data = stats.bernoulli.rvs(inject_true_value, size=N_total)\n",
    "\n",
    "\n",
    "@interact(n_trials=widgets.IntSlider(min=0, max=N_total, step=1, value=0))\n",
    "def toss_Bayesian(n_trials=0):\n",
    "    # number of heads\n",
    "    n_heads = data[:n_trials].sum()\n",
    "    \n",
    "    theta = np.linspace(0, 1, 200)\n",
    "    X = stats.beta.pdf(theta, 1 + n_heads, 1 + n_trials - n_heads)\n",
    "    \n",
    "    plt.plot(theta, X, label=f\"observe {n_trials} tosses,\\n {n_heads} heads\", color=\"red\")\n",
    "    plt.fill_between(theta, 0, X, alpha=0.4)\n",
    "    plt.vlines(inject_true_value, 0, max(X)+2, color=\"k\", linestyles=\"--\", lw=1)\n",
    "    plt.legend()"
   ]
  },
  {
   "cell_type": "code",
   "execution_count": null,
   "metadata": {},
   "outputs": [],
   "source": []
  }
 ],
 "metadata": {
  "kernelspec": {
   "display_name": "igwn-py311",
   "language": "python",
   "name": "python3"
  },
  "language_info": {
   "codemirror_mode": {
    "name": "ipython",
    "version": 3
   },
   "file_extension": ".py",
   "mimetype": "text/x-python",
   "name": "python",
   "nbconvert_exporter": "python",
   "pygments_lexer": "ipython3",
   "version": "3.10.13"
  }
 },
 "nbformat": 4,
 "nbformat_minor": 2
}
