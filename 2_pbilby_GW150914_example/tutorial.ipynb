{
 "cells": [
  {
   "cell_type": "markdown",
   "metadata": {},
   "source": [
    "## Running pbilby on a cluster (or laptop)"
   ]
  },
  {
   "cell_type": "markdown",
   "metadata": {},
   "source": [
    "This tutorial will demonstrate how to set up parallel_bilby (pbilby) jobs, which can be run on a cluster, via slurm, or on a laptop (though the latter will be limited to the number of available cores on the machine).\n",
    "\n",
    "There are three steps to running pbilby. The first is the ini file. This contains everything to set up the run. The ini file `GW150914.ini` is contained in this directory.\n",
    "\n",
    "The ini file is set up to analyze GW150914 using GWOSC data. We will use the `dynesty` nested sampling algorithm. Let's start by understanding the ini file. None of the cells detailing the ini file need to be run. I've just added them here to describe them in detail.\n",
    "\n"
   ]
  },
  {
   "cell_type": "markdown",
   "metadata": {},
   "source": [
    "### ini file"
   ]
  },
  {
   "cell_type": "markdown",
   "metadata": {},
   "source": [
    "The first part of the ini file sets the data specific settings"
   ]
  },
  {
   "cell_type": "code",
   "execution_count": null,
   "metadata": {},
   "outputs": [],
   "source": [
    "\n",
    "################################################################################\n",
    "####### Data generation arguments\n",
    "################################################################################\n",
    "\n",
    "trigger_time = 1126259462.4\n",
    "\n",
    "################################################################################\n",
    "####### Detector arguments\n",
    "################################################################################\n",
    "\n",
    "detectors = [H1, L1]\n",
    "psd_dict = {H1=psd_data/h1_psd.txt, L1=psd_data/l1_psd.txt}\n",
    "channel_dict = {H1:GWOSC, L1:GWOSC}\n",
    "duration = 4"
   ]
  },
  {
   "cell_type": "markdown",
   "metadata": {},
   "source": [
    "The trigger time is the time of the merger, as estimated by the search pipelines. This can be found from GWOSC. By convention, the data is such that the trigger time occurs 2s before the end of the data segment.\n",
    "\n",
    "Next, we specify the detectors, PSD, data channel and data duration. Only LIGO Hanford and Livingston were operational at the time of GW150914 so we only specify these instruments. The PSD is contained in the `psd_data` directory. Because we are using GWOSC data, we only need to specify the data channel as GWOSC. Lastly, because GW150914 is only in band for a short duration (a few hundred ms) we will only analyze 4s of data containing the signal."
   ]
  },
  {
   "cell_type": "markdown",
   "metadata": {},
   "source": [
    "The next set of arguments set up the likelihood and prior:"
   ]
  },
  {
   "cell_type": "code",
   "execution_count": null,
   "metadata": {},
   "outputs": [],
   "source": [
    "################################################################################\n",
    "## Likelihood arguments\n",
    "################################################################################\n",
    "\n",
    "distance-marginalization=True\n",
    "phase-marginalization=True\n",
    "time-marginalization=True\n",
    "\n",
    "################################################################################\n",
    "## Prior arguments\n",
    "################################################################################\n",
    "\n",
    "prior-dict = {\n",
    "  mass_ratio = Uniform(name='mass_ratio', minimum=0.125, maximum=1),\n",
    "  chirp_mass = Uniform(name='chirp_mass', minimum=25, maximum=31),\n",
    "  mass_1 = Constraint(name='mass_1', minimum=10, maximum=80),\n",
    "  mass_2 = Constraint(name='mass_2', minimum=10, maximum=80),\n",
    "  a_1 = Uniform(name='a_1', minimum=0, maximum=0.99),\n",
    "  a_2 = Uniform(name='a_2', minimum=0, maximum=0.99),\n",
    "  tilt_1 = Sine(name='tilt_1'),\n",
    "  tilt_2 = Sine(name='tilt_2'),\n",
    "  phi_12 = Uniform(name='phi_12', minimum=0, maximum=2 * np.pi, boundary='periodic'),\n",
    "  phi_jl = Uniform(name='phi_jl', minimum=0, maximum=2 * np.pi, boundary='periodic'),\n",
    "  luminosity_distance = PowerLaw(alpha=2, name='luminosity_distance', minimum=50, maximum=2000),\n",
    "  dec =  Cosine(name='dec'),\n",
    "  ra =  Uniform(name='ra', minimum=0, maximum=2 * np.pi, boundary='periodic'),\n",
    "  theta_jn =  Sine(name='theta_jn'),\n",
    "  psi =  Uniform(name='psi', minimum=0, maximum=np.pi, boundary='periodic'),\n",
    "  phase =  Uniform(name='phase', minimum=0, maximum=2 * np.pi, boundary='periodic')\n",
    "}\n"
   ]
  },
  {
   "cell_type": "markdown",
   "metadata": {},
   "source": [
    "The likelihood arguments are flags that specify if the three parameters `distance, phase, time` should be numerically/analytically marginalized over each time the likelihood is called. Setting these to True can significantly speed up the run, and these parameters can be recovered in postprocessing (i.e., they're not lost if you choose to marginalized over them). The only time when you might not want to set these to true is if you're going to use a waveform that contains higher order mode content. In this case, the prescription for phase marginalization is formally invalid and phase-marginalization should be set to false."
   ]
  },
  {
   "cell_type": "markdown",
   "metadata": {},
   "source": [
    "Next we set the prior. These priors are chosen to be wide enough to capture the bulk of the posterior, but narrow enough so the run converges fairly quickly. "
   ]
  },
  {
   "cell_type": "markdown",
   "metadata": {},
   "source": [
    "The next set of arguments set the template waveform. Here we will use `IMRPhenomPv2` because it achieves a good trade off between accuracy and speed. More contemporary waveform models could easily be swapped in, e.g., `IMRPhenomXPHM`. "
   ]
  },
  {
   "cell_type": "code",
   "execution_count": null,
   "metadata": {
    "scrolled": true
   },
   "outputs": [],
   "source": [
    "################################################################################\n",
    "## Waveform arguments\n",
    "################################################################################\n",
    "\n",
    "waveform_approximant = IMRPhenomPv2\n",
    "frequency-domain-source-model = lal_binary_black_hole"
   ]
  },
  {
   "cell_type": "markdown",
   "metadata": {},
   "source": [
    "Next, we set up dynesty:"
   ]
  },
  {
   "cell_type": "code",
   "execution_count": null,
   "metadata": {},
   "outputs": [],
   "source": [
    "###############################################################################\n",
    "## Sampler settings\n",
    "################################################################################\n",
    "\n",
    "sampler = dynesty\n",
    "nlive = 1000\n",
    "nact = 5\n"
   ]
  },
  {
   "cell_type": "markdown",
   "metadata": {},
   "source": [
    "These settings should be fine for a \"quick\" run, though our recommended settings for \"production\" analyses are `nlive=1500`, `nact=10`"
   ]
  },
  {
   "cell_type": "markdown",
   "metadata": {},
   "source": [
    "Lastly, we set up the slurm scheduler:\n",
    "    "
   ]
  },
  {
   "cell_type": "code",
   "execution_count": null,
   "metadata": {},
   "outputs": [],
   "source": [
    "################################################################################\n",
    "## Slurm Settings\n",
    "################################################################################\n",
    "\n",
    "nodes = 10\n",
    "ntasks-per-node = 16\n",
    "time = 24:00:00"
   ]
  },
  {
   "cell_type": "markdown",
   "metadata": {},
   "source": [
    "The actual settings you choose will depend entirely on the cluster you run on. Here `ntasks-per-node` is the number of CPUs per node (or cores per node), so this job would specify 10 nodes, each with 16 cores, for a total of 160 cores/CPUs. "
   ]
  },
  {
   "cell_type": "markdown",
   "metadata": {},
   "source": [
    "## Running pbilby"
   ]
  },
  {
   "cell_type": "markdown",
   "metadata": {},
   "source": [
    "Running pbilby is a two step process. First, we run `parallel_bilby_generation`. This creates the run directory structure, produces the `data_dump` file which contains the data, psd etc..., as well as the slurm submit script:"
   ]
  },
  {
   "cell_type": "code",
   "execution_count": 2,
   "metadata": {},
   "outputs": [
    {
     "name": "stdout",
     "output_type": "stream",
     "text": [
      "14:01 bilby_pipe WARNING : You do not have nds2 (python-nds2-client) installed. You may  experience problems accessing interferometer data.\n",
      "14:01 bilby_pipe WARNING : You do not have LDAStools.frameCPP (python-ldas-tools-framecpp) installed. You may experience problems accessing interferometer data.\n",
      "14:01 bilby_pipe INFO    : Command line arguments: Namespace(Tmax=10000, accounting=None, adapt=False, autocorr_c=5.0, autocorr_tol=50.0, bilby_zero_likelihood_mode=False, burn_in_nact=50.0, calibration_model=None, catch_waveform_errors=False, channel_dict='{H1:GWOSC, L1:GWOSC}', check_point_deltaT=3600, clean=False, cluster=None, coherence_test=False, convert_to_flat_in_component_mass=False, create_plots=False, create_summary=False, data_dict=None, data_dump_file=None, data_format=None, default_prior='BBHPriorDict', deltaT=0.2, detectors=['H1', 'L1'], distance_marginalization=True, distance_marginalization_lookup_table=None, dlogz=0.1, do_not_save_bounds_in_resume=False, duration=4.0, dynesty_bound='multi', dynesty_sample='rwalk', email=None, enlarge=1.5, existing_dir=None, extra_likelihood_kwargs=None, extra_lines=None, facc=0.5, fast_mpi=False, frac_threshold=0.01, frequency_domain_source_model='lal_binary_black_hole', gaussian_noise=False, generation_seed=None, gps_file=None, gps_tuple=None, idx=0, ignore_gwpy_data_quality_check=True, ini='GW150914.ini', injection=False, injection_dict=None, injection_file=None, injection_numbers=None, injection_waveform_approximant=None, jitter_time=True, label='GW150914', likelihood_type='GravitationalWaveTransient', local=False, local_generation=False, local_plot=False, log_directory=None, max_iterations=100000, max_its=10000000000, max_run_time=10000000000.0, maximum_frequency=None, maxmcmc=5000, mem_per_cpu=None, min_eff=10, min_tau=30, minimum_frequency='20', mode_array=None, mpi_timing=False, mpi_timing_interval=0, n_check_point=100, n_effective=inf, n_parallel=1, n_simulation=0, nact=5, ncheck=500, nestcheck=False, nfrac=5, nlive=1000, no_plot=False, nodes=10, nsamples=10000, ntasks_per_node=16, ntemps=20, nwalkers=100, online_pe=False, osg=False, outdir='outdir', periodic_restart_time=28800, phase_marginalization=True, plot_calibration=False, plot_corner=False, plot_format='png', plot_marginal=False, plot_skymap=False, plot_waveform=False, pn_amplitude_order=0, pn_phase_order=-1, pn_spin_order=-1, pn_tidal_order=-1, post_trigger_duration=2.0, postprocessing_arguments=None, postprocessing_executable=None, prior_dict=\"{mass-ratio: Uniform(name='mass_ratio', minimum=0.125, maximum=1), chirp-mass: Uniform(name='chirp_mass', minimum=25, maximum=31), mass-1: Constraint(name='mass_1', minimum=10, maximum=80), mass-2: Constraint(name='mass_2', minimum=10, maximum=80), a-1: Uniform(name='a_1', minimum=0, maximum=0.99), a-2: Uniform(name='a_2', minimum=0, maximum=0.99), tilt-1: Sine(name='tilt_1'), tilt-2: Sine(name='tilt_2'), phi-12: Uniform(name='phi_12', minimum=0, maximum=2 * np.pi, boundary='periodic'), phi-jl: Uniform(name='phi_jl', minimum=0, maximum=2 * np.pi, boundary='periodic'), luminosity-distance: PowerLaw(alpha=2, name='luminosity_distance', minimum=50, maximum=2000), dec: Cosine(name='dec'), ra: Uniform(name='ra', minimum=0, maximum=2 * np.pi, boundary='periodic'), theta-jn: Sine(name='theta_jn'), psi: Uniform(name='psi', minimum=0, maximum=np.pi, boundary='periodic'), phase: Uniform(name='phase', minimum=0, maximum=2 * np.pi, boundary='periodic'), }\", prior_file=None, process=None, psd_dict='{H1=psd_data/h1_psd.txt, L1=psd_data/l1_psd.txt}', psd_fractional_overlap=0.5, psd_length=32, psd_maximum_duration=1024, psd_method='median', psd_start_time=None, reference_frame='sky', reference_frequency=20, request_cpus=1, request_memory=4.0, request_memory_generation=None, resampling_method='lal', roq_folder=None, roq_scale_factor=1, roq_weights=None, safety=1.0, sampler='dynesty', sampler_kwargs='Default', sampling_frequency=4096, sampling_seed=1234, scheduler='condor', scheduler_args=None, scheduler_env=None, scheduler_module=None, single_postprocessing_arguments=None, single_postprocessing_executable=None, singularity_image=None, slurm_extra_lines=None, spline_calibration_amplitude_uncertainty_dict=None, spline_calibration_envelope_dict=None, spline_calibration_nodes=5, spline_calibration_phase_uncertainty_dict=None, submit=False, summarypages_arguments=None, thin_by_nact=1.0, time='24:00:00', time_marginalization=True, time_reference='geocent', timeslide_dict=None, timeslide_file=None, transfer_files=True, trigger_time='1126259462.4', tukey_roll_off=0.4, verbose=False, vol_check=8, vol_dec=0.5, walks=100, waveform_approximant='IMRPhenomPv2', waveform_generator='bilby.gw.waveform_generator.WaveformGenerator', webdir=None, zero_noise=False)\n",
      "14:01 bilby_pipe INFO    : Unknown command line arguments: []\n",
      "14:01 bilby_pipe INFO    : Generation seed set to 658669\n",
      "14:01 bilby_pipe INFO    : Setting trigger time 1126259462.4\n",
      "14:01 bilby_pipe INFO    : Setting prior-file to None\n",
      "14:01 bilby_pipe INFO    : Setting segment duration 4.0s\n",
      "14:01 bilby_pipe INFO    : No maximum frequency given. Setting to sampling frequency / 2 = 2048.0\n",
      "14:01 bilby_pipe INFO    : No calibration_model model provided, calibration marginalization will not be used\n",
      "14:01 bilby_pipe INFO    : Setting H1 PSD from file psd_data/h1_psd.txt\n",
      "14:01 bilby_pipe INFO    : Getting analysis-segment data for H1\n",
      "14:01 bilby_pipe INFO    : Attempting to download data from GWOSC\n",
      "14:01 bilby_pipe INFO    : Calling TimeSeries.fetch_open_data('H1', start=1126259460.4, end=1126259464.4)\n",
      "/opt/miniconda3/lib/python3.7/site-packages/gwpy/types/series.py:926: UserWarning: TimeSeries.crop given end larger than current end, crop will end when the Series actually ends.\n",
      "  % type(self).__name__)\n",
      "14:02 bilby_pipe INFO    : Sample rate matches data no resampling\n",
      "14:02 bilby_pipe INFO    : Setting L1 PSD from file psd_data/l1_psd.txt\n",
      "14:02 bilby_pipe INFO    : Getting analysis-segment data for L1\n",
      "14:02 bilby_pipe INFO    : Attempting to download data from GWOSC\n",
      "14:02 bilby_pipe INFO    : Calling TimeSeries.fetch_open_data('L1', start=1126259460.4, end=1126259464.4)\n",
      "14:02 bilby_pipe INFO    : Sample rate matches data no resampling\n",
      "14:02 bilby INFO    : Generating frequency domain strain from given time domain strain.\n",
      "14:02 bilby INFO    : Applying a tukey window with alpha=0.2, roll off=0.4\n",
      "14:02 bilby INFO    : Generating frequency domain strain from given time domain strain.\n",
      "14:02 bilby INFO    : Applying a tukey window with alpha=0.2, roll off=0.4\n",
      "14:02 bilby INFO    : Setting up likelihood with marginalizations: distance=True time=True phase=True \n",
      "14:02 bilby_pipe INFO    : Setting geocent time prior using trigger-time=1126259462.4 and deltaT=0.2\n",
      "14:02 bilby_pipe INFO    : Using the lal_binary_black_hole source model\n",
      "14:02 bilby INFO    : Waveform generator initiated with\n",
      "  frequency_domain_source_model: bilby.gw.source.lal_binary_black_hole\n",
      "  time_domain_source_model: None\n",
      "  parameter_conversion: bilby.gw.conversion.convert_to_lal_binary_black_hole_parameters\n",
      "14:02 bilby INFO    : Distance marginalisation file .distance_marginalization_lookup.npz does not exist\n",
      "14:02 bilby INFO    : Building lookup table for distance marginalisation.\n",
      "14:04 bilby INFO    : Initial meta_data = {'command_line_args': {'nlive': 1000, 'dlogz': 0.1, 'n_effective': inf, 'dynesty_sample': 'rwalk', 'dynesty_bound': 'multi', 'walks': 100, 'maxmcmc': 5000, 'nact': 5, 'min_eff': 10, 'facc': 0.5, 'vol_dec': 0.5, 'vol_check': 8, 'enlarge': 1.5, 'n_check_point': 100, 'max_its': 10000000000, 'max_run_time': 10000000000.0, 'fast_mpi': False, 'mpi_timing': False, 'mpi_timing_interval': 0, 'nestcheck': False, 'nsamples': 10000, 'ntemps': 20, 'nwalkers': 100, 'max_iterations': 100000, 'ncheck': 500, 'burn_in_nact': 50.0, 'thin_by_nact': 1.0, 'frac_threshold': 0.01, 'nfrac': 5, 'min_tau': 30, 'Tmax': 10000, 'safety': 1.0, 'autocorr_c': 5.0, 'autocorr_tol': 50.0, 'adapt': False, 'bilby_zero_likelihood_mode': False, 'sampling_seed': 1234, 'clean': False, 'no_plot': False, 'do_not_save_bounds_in_resume': False, 'check_point_deltaT': 3600, 'ini': 'GW150914.ini', 'verbose': False, 'calibration_model': None, 'spline_calibration_envelope_dict': None, 'spline_calibration_nodes': 5, 'spline_calibration_amplitude_uncertainty_dict': None, 'spline_calibration_phase_uncertainty_dict': None, 'ignore_gwpy_data_quality_check': True, 'gps_tuple': None, 'gps_file': None, 'timeslide_file': None, 'timeslide_dict': None, 'trigger_time': '1126259462.4', 'gaussian_noise': False, 'n_simulation': 0, 'data_dict': None, 'data_format': None, 'channel_dict': '{H1:GWOSC, L1:GWOSC}', 'coherence_test': False, 'detectors': ['H1', 'L1'], 'duration': 4.0, 'generation_seed': None, 'psd_dict': '{H1=psd_data/h1_psd.txt, L1=psd_data/l1_psd.txt}', 'psd_fractional_overlap': 0.5, 'post_trigger_duration': 2.0, 'sampling_frequency': 4096, 'psd_length': 32, 'psd_maximum_duration': 1024, 'psd_method': 'median', 'psd_start_time': None, 'maximum_frequency': None, 'minimum_frequency': '20', 'zero_noise': False, 'tukey_roll_off': 0.4, 'resampling_method': 'lal', 'injection': False, 'injection_dict': None, 'injection_file': None, 'injection_numbers': None, 'injection_waveform_approximant': None, 'label': 'GW150914', 'outdir': 'outdir', 'periodic_restart_time': 28800, 'submit': False, 'log_directory': None, 'distance_marginalization': True, 'distance_marginalization_lookup_table': None, 'phase_marginalization': True, 'time_marginalization': True, 'jitter_time': True, 'reference_frame': 'sky', 'time_reference': 'geocent', 'likelihood_type': 'GravitationalWaveTransient', 'roq_folder': None, 'roq_weights': None, 'roq_scale_factor': 1, 'extra_likelihood_kwargs': None, 'create_plots': False, 'create_summary': False, 'existing_dir': None, 'webdir': None, 'summarypages_arguments': None, 'default_prior': 'BBHPriorDict', 'deltaT': 0.2, 'prior_file': None, 'prior_dict': \"{mass-ratio: Uniform(name='mass_ratio', minimum=0.125, maximum=1), chirp-mass: Uniform(name='chirp_mass', minimum=25, maximum=31), mass-1: Constraint(name='mass_1', minimum=10, maximum=80), mass-2: Constraint(name='mass_2', minimum=10, maximum=80), a-1: Uniform(name='a_1', minimum=0, maximum=0.99), a-2: Uniform(name='a_2', minimum=0, maximum=0.99), tilt-1: Sine(name='tilt_1'), tilt-2: Sine(name='tilt_2'), phi-12: Uniform(name='phi_12', minimum=0, maximum=2 * np.pi, boundary='periodic'), phi-jl: Uniform(name='phi_jl', minimum=0, maximum=2 * np.pi, boundary='periodic'), luminosity-distance: PowerLaw(alpha=2, name='luminosity_distance', minimum=50, maximum=2000), dec: Cosine(name='dec'), ra: Uniform(name='ra', minimum=0, maximum=2 * np.pi, boundary='periodic'), theta-jn: Sine(name='theta_jn'), psi: Uniform(name='psi', minimum=0, maximum=np.pi, boundary='periodic'), phase: Uniform(name='phase', minimum=0, maximum=2 * np.pi, boundary='periodic'), }\", 'convert_to_flat_in_component_mass': False, 'single_postprocessing_executable': None, 'single_postprocessing_arguments': None, 'n_parallel': 1, 'waveform_generator': 'bilby.gw.waveform_generator.WaveformGenerator', 'reference_frequency': 20, 'waveform_approximant': 'IMRPhenomPv2', 'catch_waveform_errors': False, 'pn_spin_order': -1, 'pn_tidal_order': -1, 'pn_phase_order': -1, 'pn_amplitude_order': 0, 'mode_array': None, 'frequency_domain_source_model': 'lal_binary_black_hole', 'sampler': 'dynesty', 'nodes': 10, 'ntasks_per_node': 16, 'time': '24:00:00', 'mem_per_cpu': None, 'extra_lines': None, 'slurm_extra_lines': None, 'idx': 0, 'cluster': None, 'process': None, 'data_dump_file': None, 'accounting': None, 'local': False, 'local_generation': False, 'local_plot': False, 'request_memory': 4.0, 'request_memory_generation': None, 'request_cpus': 1, 'singularity_image': None, 'scheduler': 'condor', 'scheduler_args': None, 'scheduler_module': None, 'scheduler_env': None, 'transfer_files': True, 'online_pe': False, 'osg': False, 'plot_calibration': False, 'plot_corner': False, 'plot_marginal': False, 'plot_skymap': False, 'plot_waveform': False, 'plot_format': 'png', 'email': None, 'postprocessing_executable': None, 'postprocessing_arguments': None, 'sampler_kwargs': 'Default'}, 'unknown_command_line_args': [], 'injection_parameters': None, 'bilby_version': '1.0.2: (CLEAN) 2f578641 2020-10-09 12:25:19 +1100', 'bilby_pipe_version': '1.0.0', 'config_file': 'GW150914.ini', 'data_dump_file': 'outdir/data/GW150914_data_dump.pickle', 'parallel_bilby_version': '0.1.6: (CLEAN) 7518c55 2020-11-11 19:00:13 -0800', 'dynesty_version': '1.0.2'}\n",
      "14:04 bilby_pipe INFO    : Using the lal_binary_black_hole source model\n",
      "14:04 bilby INFO    : Waveform generator initiated with\n",
      "  frequency_domain_source_model: bilby.gw.source.lal_binary_black_hole\n",
      "  time_domain_source_model: None\n",
      "  parameter_conversion: bilby.gw.conversion.convert_to_lal_binary_black_hole_parameters\n",
      "14:04 bilby INFO    : Complete ini written: outdir/GW150914_config_complete.ini\n",
      "14:04 bilby INFO    : Setup complete, now run:\n",
      " $ bash outdir/submit/bash_GW150914.sh\n"
     ]
    }
   ],
   "source": [
    "!parallel_bilby_generation GW150914.ini"
   ]
  },
  {
   "cell_type": "markdown",
   "metadata": {},
   "source": [
    "When this runs successfully, you should see \n",
    "```\n",
    "14:04 bilby INFO    : Complete ini written: outdir/GW150914_config_complete.ini\n",
    "14:04 bilby INFO    : Setup complete, now run:\n",
    "$ bash outdir/submit/bash_GW150914.sh\n",
    "```\n",
    "\n",
    "If you now inspect the directory, you'll see a new folder called `outdir`. This is where results, logs, data, and submit files are contained."
   ]
  },
  {
   "cell_type": "markdown",
   "metadata": {},
   "source": [
    "The last thing to do is to run parallel bilby. If you're running on a cluster, the easiest thing to do at this point would be to run `bash outdir/submit/bash_GW150914.sh`. However, let's first take a look at the contenets of `outdir/submit/bash_GW150914.sh`. The bash script contains instructions to run another script, `analysis_GW150914_0.sh`. Inside `analysis_GW150914_0.sh` is the *actual* command that's submitted by the slurm scheduler:"
   ]
  },
  {
   "cell_type": "markdown",
   "metadata": {},
   "source": [
    "`mpirun parallel_bilby_analysis outdir/data/GW150914_data_dump.pickle --label GW150914_0 --outdir /Users/rsmi0016/git/parallel_bilby/examples/GW150914_IMRPhenomPv2/outdir/result --sampling-seed 1234`\n"
   ]
  },
  {
   "cell_type": "markdown",
   "metadata": {},
   "source": [
    "This can be run on your laptop, or headnode to test if everything is working."
   ]
  },
  {
   "cell_type": "code",
   "execution_count": null,
   "metadata": {},
   "outputs": [],
   "source": []
  }
 ],
 "metadata": {
  "kernelspec": {
   "display_name": "Python 3",
   "language": "python",
   "name": "python3"
  },
  "language_info": {
   "codemirror_mode": {
    "name": "ipython",
    "version": 3
   },
   "file_extension": ".py",
   "mimetype": "text/x-python",
   "name": "python",
   "nbconvert_exporter": "python",
   "pygments_lexer": "ipython3",
   "version": "3.7.4"
  }
 },
 "nbformat": 4,
 "nbformat_minor": 4
}
